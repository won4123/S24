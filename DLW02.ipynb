{
  "nbformat": 4,
  "nbformat_minor": 0,
  "metadata": {
    "colab": {
      "provenance": [],
      "include_colab_link": true
    },
    "kernelspec": {
      "name": "python3",
      "display_name": "Python 3"
    },
    "language_info": {
      "name": "python"
    },
    "widgets": {
      "application/vnd.jupyter.widget-state+json": {
        "3d604616a940499a92a11c5c463251dc": {
          "model_module": "@jupyter-widgets/output",
          "model_name": "OutputModel",
          "model_module_version": "1.0.0",
          "state": {
            "_dom_classes": [],
            "_model_module": "@jupyter-widgets/output",
            "_model_module_version": "1.0.0",
            "_model_name": "OutputModel",
            "_view_count": null,
            "_view_module": "@jupyter-widgets/output",
            "_view_module_version": "1.0.0",
            "_view_name": "OutputView",
            "layout": "IPY_MODEL_8e05b5f6e8404c3e8942a733a8e30dad",
            "msg_id": "",
            "outputs": []
          }
        },
        "8e05b5f6e8404c3e8942a733a8e30dad": {
          "model_module": "@jupyter-widgets/base",
          "model_name": "LayoutModel",
          "model_module_version": "1.2.0",
          "state": {
            "_model_module": "@jupyter-widgets/base",
            "_model_module_version": "1.2.0",
            "_model_name": "LayoutModel",
            "_view_count": null,
            "_view_module": "@jupyter-widgets/base",
            "_view_module_version": "1.2.0",
            "_view_name": "LayoutView",
            "align_content": null,
            "align_items": null,
            "align_self": null,
            "border": null,
            "bottom": null,
            "display": null,
            "flex": null,
            "flex_flow": null,
            "grid_area": null,
            "grid_auto_columns": null,
            "grid_auto_flow": null,
            "grid_auto_rows": null,
            "grid_column": null,
            "grid_gap": null,
            "grid_row": null,
            "grid_template_areas": null,
            "grid_template_columns": null,
            "grid_template_rows": null,
            "height": null,
            "justify_content": null,
            "justify_items": null,
            "left": null,
            "margin": null,
            "max_height": null,
            "max_width": null,
            "min_height": null,
            "min_width": null,
            "object_fit": null,
            "object_position": null,
            "order": null,
            "overflow": null,
            "overflow_x": null,
            "overflow_y": null,
            "padding": null,
            "right": null,
            "top": null,
            "visibility": null,
            "width": null
          }
        },
        "acae6c626d384bfb8fdef13519759910": {
          "model_module": "@jupyter-widgets/controls",
          "model_name": "VBoxModel",
          "model_module_version": "1.5.0",
          "state": {
            "_dom_classes": [],
            "_model_module": "@jupyter-widgets/controls",
            "_model_module_version": "1.5.0",
            "_model_name": "VBoxModel",
            "_view_count": null,
            "_view_module": "@jupyter-widgets/controls",
            "_view_module_version": "1.5.0",
            "_view_name": "VBoxView",
            "box_style": "",
            "children": [
              "IPY_MODEL_3611095b285e429aa7f13f5ff5e2f398",
              "IPY_MODEL_701c402464ee452296c9e1e244a33ed6",
              "IPY_MODEL_5ee41c08827e4b21a1a6704a76593e0c",
              "IPY_MODEL_730145bf67704711b62a232cd766e858",
              "IPY_MODEL_1c222e6dac1e4dceba7832f89d5f4033",
              "IPY_MODEL_896a164052f04c628756448294924ff8"
            ],
            "layout": "IPY_MODEL_ab75c70c546a49ebaffc1025742fbd3f"
          }
        },
        "3611095b285e429aa7f13f5ff5e2f398": {
          "model_module": "@jupyter-widgets/controls",
          "model_name": "TextModel",
          "model_module_version": "1.5.0",
          "state": {
            "_dom_classes": [],
            "_model_module": "@jupyter-widgets/controls",
            "_model_module_version": "1.5.0",
            "_model_name": "TextModel",
            "_view_count": null,
            "_view_module": "@jupyter-widgets/controls",
            "_view_module_version": "1.5.0",
            "_view_name": "TextView",
            "continuous_update": true,
            "description": "Calculation:",
            "description_tooltip": null,
            "disabled": false,
            "layout": "IPY_MODEL_31abee59835b413e8d493c2b27157d86",
            "placeholder": "Type something",
            "style": "IPY_MODEL_2bf002611936401a8a468573f9d21d6f",
            "value": "63"
          }
        },
        "701c402464ee452296c9e1e244a33ed6": {
          "model_module": "@jupyter-widgets/controls",
          "model_name": "HBoxModel",
          "model_module_version": "1.5.0",
          "state": {
            "_dom_classes": [],
            "_model_module": "@jupyter-widgets/controls",
            "_model_module_version": "1.5.0",
            "_model_name": "HBoxModel",
            "_view_count": null,
            "_view_module": "@jupyter-widgets/controls",
            "_view_module_version": "1.5.0",
            "_view_name": "HBoxView",
            "box_style": "",
            "children": [
              "IPY_MODEL_00a3d284f84747f1a541fc89f3fac13b",
              "IPY_MODEL_0789c85446714cb6b726d1c9e9e4dee2",
              "IPY_MODEL_5c4981a0235f486995807875182bc966",
              "IPY_MODEL_e9d6a6f938164151984900b2e16992e8"
            ],
            "layout": "IPY_MODEL_42dc7c49dc03430f8e703e07e0df7fcf"
          }
        },
        "5ee41c08827e4b21a1a6704a76593e0c": {
          "model_module": "@jupyter-widgets/controls",
          "model_name": "HBoxModel",
          "model_module_version": "1.5.0",
          "state": {
            "_dom_classes": [],
            "_model_module": "@jupyter-widgets/controls",
            "_model_module_version": "1.5.0",
            "_model_name": "HBoxModel",
            "_view_count": null,
            "_view_module": "@jupyter-widgets/controls",
            "_view_module_version": "1.5.0",
            "_view_name": "HBoxView",
            "box_style": "",
            "children": [
              "IPY_MODEL_b0e169852bee4b5da84c92c4cc2ac591",
              "IPY_MODEL_c299605463a540b3bcfe8e4b7848fac1",
              "IPY_MODEL_8873586bf42848529e6ae6dfb399b26c",
              "IPY_MODEL_d9e59772c57c407bade0618017713c6d"
            ],
            "layout": "IPY_MODEL_f9681f6250c74c66b5cad5011370a3cd"
          }
        },
        "730145bf67704711b62a232cd766e858": {
          "model_module": "@jupyter-widgets/controls",
          "model_name": "HBoxModel",
          "model_module_version": "1.5.0",
          "state": {
            "_dom_classes": [],
            "_model_module": "@jupyter-widgets/controls",
            "_model_module_version": "1.5.0",
            "_model_name": "HBoxModel",
            "_view_count": null,
            "_view_module": "@jupyter-widgets/controls",
            "_view_module_version": "1.5.0",
            "_view_name": "HBoxView",
            "box_style": "",
            "children": [
              "IPY_MODEL_12f8fb3403004e50a755341842efafd5",
              "IPY_MODEL_4d90898b754a4a0882ff2b2a6b9f5518",
              "IPY_MODEL_3377a952cd4644b082d01bcfbac4e1f1",
              "IPY_MODEL_ad0bcd0c00b546418562dc6b1c219729"
            ],
            "layout": "IPY_MODEL_e1cf0fadaca44b1e8a3999d799db09c0"
          }
        },
        "1c222e6dac1e4dceba7832f89d5f4033": {
          "model_module": "@jupyter-widgets/controls",
          "model_name": "HBoxModel",
          "model_module_version": "1.5.0",
          "state": {
            "_dom_classes": [],
            "_model_module": "@jupyter-widgets/controls",
            "_model_module_version": "1.5.0",
            "_model_name": "HBoxModel",
            "_view_count": null,
            "_view_module": "@jupyter-widgets/controls",
            "_view_module_version": "1.5.0",
            "_view_name": "HBoxView",
            "box_style": "",
            "children": [
              "IPY_MODEL_7c3a1b2a1e96421bb69f72484891b4d8",
              "IPY_MODEL_6df70419ee4a4db395245848f40edf1a",
              "IPY_MODEL_4d16d55248724912b5219e0bd169e88a",
              "IPY_MODEL_7bef50e0ed894225956c1acb201ab2fa"
            ],
            "layout": "IPY_MODEL_d12109834dce435abfb9749af1d22f72"
          }
        },
        "896a164052f04c628756448294924ff8": {
          "model_module": "@jupyter-widgets/controls",
          "model_name": "HBoxModel",
          "model_module_version": "1.5.0",
          "state": {
            "_dom_classes": [],
            "_model_module": "@jupyter-widgets/controls",
            "_model_module_version": "1.5.0",
            "_model_name": "HBoxModel",
            "_view_count": null,
            "_view_module": "@jupyter-widgets/controls",
            "_view_module_version": "1.5.0",
            "_view_name": "HBoxView",
            "box_style": "",
            "children": [
              "IPY_MODEL_c398f5f1f4a647eea99aa5a958e6221a"
            ],
            "layout": "IPY_MODEL_ed6fe2a8579f48879b17c67102374b19"
          }
        },
        "ab75c70c546a49ebaffc1025742fbd3f": {
          "model_module": "@jupyter-widgets/base",
          "model_name": "LayoutModel",
          "model_module_version": "1.2.0",
          "state": {
            "_model_module": "@jupyter-widgets/base",
            "_model_module_version": "1.2.0",
            "_model_name": "LayoutModel",
            "_view_count": null,
            "_view_module": "@jupyter-widgets/base",
            "_view_module_version": "1.2.0",
            "_view_name": "LayoutView",
            "align_content": null,
            "align_items": null,
            "align_self": null,
            "border": null,
            "bottom": null,
            "display": null,
            "flex": null,
            "flex_flow": null,
            "grid_area": null,
            "grid_auto_columns": null,
            "grid_auto_flow": null,
            "grid_auto_rows": null,
            "grid_column": null,
            "grid_gap": null,
            "grid_row": null,
            "grid_template_areas": null,
            "grid_template_columns": null,
            "grid_template_rows": null,
            "height": null,
            "justify_content": null,
            "justify_items": null,
            "left": null,
            "margin": null,
            "max_height": null,
            "max_width": null,
            "min_height": null,
            "min_width": null,
            "object_fit": null,
            "object_position": null,
            "order": null,
            "overflow": null,
            "overflow_x": null,
            "overflow_y": null,
            "padding": null,
            "right": null,
            "top": null,
            "visibility": null,
            "width": null
          }
        },
        "31abee59835b413e8d493c2b27157d86": {
          "model_module": "@jupyter-widgets/base",
          "model_name": "LayoutModel",
          "model_module_version": "1.2.0",
          "state": {
            "_model_module": "@jupyter-widgets/base",
            "_model_module_version": "1.2.0",
            "_model_name": "LayoutModel",
            "_view_count": null,
            "_view_module": "@jupyter-widgets/base",
            "_view_module_version": "1.2.0",
            "_view_name": "LayoutView",
            "align_content": null,
            "align_items": null,
            "align_self": null,
            "border": null,
            "bottom": null,
            "display": null,
            "flex": null,
            "flex_flow": null,
            "grid_area": null,
            "grid_auto_columns": null,
            "grid_auto_flow": null,
            "grid_auto_rows": null,
            "grid_column": null,
            "grid_gap": null,
            "grid_row": null,
            "grid_template_areas": null,
            "grid_template_columns": null,
            "grid_template_rows": null,
            "height": null,
            "justify_content": null,
            "justify_items": null,
            "left": null,
            "margin": null,
            "max_height": null,
            "max_width": null,
            "min_height": null,
            "min_width": null,
            "object_fit": null,
            "object_position": null,
            "order": null,
            "overflow": null,
            "overflow_x": null,
            "overflow_y": null,
            "padding": null,
            "right": null,
            "top": null,
            "visibility": null,
            "width": null
          }
        },
        "2bf002611936401a8a468573f9d21d6f": {
          "model_module": "@jupyter-widgets/controls",
          "model_name": "DescriptionStyleModel",
          "model_module_version": "1.5.0",
          "state": {
            "_model_module": "@jupyter-widgets/controls",
            "_model_module_version": "1.5.0",
            "_model_name": "DescriptionStyleModel",
            "_view_count": null,
            "_view_module": "@jupyter-widgets/base",
            "_view_module_version": "1.2.0",
            "_view_name": "StyleView",
            "description_width": ""
          }
        },
        "00a3d284f84747f1a541fc89f3fac13b": {
          "model_module": "@jupyter-widgets/controls",
          "model_name": "ButtonModel",
          "model_module_version": "1.5.0",
          "state": {
            "_dom_classes": [],
            "_model_module": "@jupyter-widgets/controls",
            "_model_module_version": "1.5.0",
            "_model_name": "ButtonModel",
            "_view_count": null,
            "_view_module": "@jupyter-widgets/controls",
            "_view_module_version": "1.5.0",
            "_view_name": "ButtonView",
            "button_style": "",
            "description": "7",
            "disabled": false,
            "icon": "",
            "layout": "IPY_MODEL_de608cc7070b425fa74383635ad314e4",
            "style": "IPY_MODEL_3b2b960d09e240398f8136c040396b59",
            "tooltip": ""
          }
        },
        "0789c85446714cb6b726d1c9e9e4dee2": {
          "model_module": "@jupyter-widgets/controls",
          "model_name": "ButtonModel",
          "model_module_version": "1.5.0",
          "state": {
            "_dom_classes": [],
            "_model_module": "@jupyter-widgets/controls",
            "_model_module_version": "1.5.0",
            "_model_name": "ButtonModel",
            "_view_count": null,
            "_view_module": "@jupyter-widgets/controls",
            "_view_module_version": "1.5.0",
            "_view_name": "ButtonView",
            "button_style": "",
            "description": "8",
            "disabled": false,
            "icon": "",
            "layout": "IPY_MODEL_de608cc7070b425fa74383635ad314e4",
            "style": "IPY_MODEL_5265b0cac505498fbac54fe994a9bb68",
            "tooltip": ""
          }
        },
        "5c4981a0235f486995807875182bc966": {
          "model_module": "@jupyter-widgets/controls",
          "model_name": "ButtonModel",
          "model_module_version": "1.5.0",
          "state": {
            "_dom_classes": [],
            "_model_module": "@jupyter-widgets/controls",
            "_model_module_version": "1.5.0",
            "_model_name": "ButtonModel",
            "_view_count": null,
            "_view_module": "@jupyter-widgets/controls",
            "_view_module_version": "1.5.0",
            "_view_name": "ButtonView",
            "button_style": "",
            "description": "9",
            "disabled": false,
            "icon": "",
            "layout": "IPY_MODEL_de608cc7070b425fa74383635ad314e4",
            "style": "IPY_MODEL_5e8bb0c5fdfc4df4be6a8e1e8fd33c30",
            "tooltip": ""
          }
        },
        "e9d6a6f938164151984900b2e16992e8": {
          "model_module": "@jupyter-widgets/controls",
          "model_name": "ButtonModel",
          "model_module_version": "1.5.0",
          "state": {
            "_dom_classes": [],
            "_model_module": "@jupyter-widgets/controls",
            "_model_module_version": "1.5.0",
            "_model_name": "ButtonModel",
            "_view_count": null,
            "_view_module": "@jupyter-widgets/controls",
            "_view_module_version": "1.5.0",
            "_view_name": "ButtonView",
            "button_style": "",
            "description": "÷",
            "disabled": false,
            "icon": "",
            "layout": "IPY_MODEL_de608cc7070b425fa74383635ad314e4",
            "style": "IPY_MODEL_f73c2725084f4ce1b3bc2966330ff8c1",
            "tooltip": ""
          }
        },
        "42dc7c49dc03430f8e703e07e0df7fcf": {
          "model_module": "@jupyter-widgets/base",
          "model_name": "LayoutModel",
          "model_module_version": "1.2.0",
          "state": {
            "_model_module": "@jupyter-widgets/base",
            "_model_module_version": "1.2.0",
            "_model_name": "LayoutModel",
            "_view_count": null,
            "_view_module": "@jupyter-widgets/base",
            "_view_module_version": "1.2.0",
            "_view_name": "LayoutView",
            "align_content": null,
            "align_items": null,
            "align_self": null,
            "border": null,
            "bottom": null,
            "display": null,
            "flex": null,
            "flex_flow": null,
            "grid_area": null,
            "grid_auto_columns": null,
            "grid_auto_flow": null,
            "grid_auto_rows": null,
            "grid_column": null,
            "grid_gap": null,
            "grid_row": null,
            "grid_template_areas": null,
            "grid_template_columns": null,
            "grid_template_rows": null,
            "height": null,
            "justify_content": null,
            "justify_items": null,
            "left": null,
            "margin": null,
            "max_height": null,
            "max_width": null,
            "min_height": null,
            "min_width": null,
            "object_fit": null,
            "object_position": null,
            "order": null,
            "overflow": null,
            "overflow_x": null,
            "overflow_y": null,
            "padding": null,
            "right": null,
            "top": null,
            "visibility": null,
            "width": null
          }
        },
        "b0e169852bee4b5da84c92c4cc2ac591": {
          "model_module": "@jupyter-widgets/controls",
          "model_name": "ButtonModel",
          "model_module_version": "1.5.0",
          "state": {
            "_dom_classes": [],
            "_model_module": "@jupyter-widgets/controls",
            "_model_module_version": "1.5.0",
            "_model_name": "ButtonModel",
            "_view_count": null,
            "_view_module": "@jupyter-widgets/controls",
            "_view_module_version": "1.5.0",
            "_view_name": "ButtonView",
            "button_style": "",
            "description": "4",
            "disabled": false,
            "icon": "",
            "layout": "IPY_MODEL_de608cc7070b425fa74383635ad314e4",
            "style": "IPY_MODEL_41cb7b6e21174a9798eab0fc964fb927",
            "tooltip": ""
          }
        },
        "c299605463a540b3bcfe8e4b7848fac1": {
          "model_module": "@jupyter-widgets/controls",
          "model_name": "ButtonModel",
          "model_module_version": "1.5.0",
          "state": {
            "_dom_classes": [],
            "_model_module": "@jupyter-widgets/controls",
            "_model_module_version": "1.5.0",
            "_model_name": "ButtonModel",
            "_view_count": null,
            "_view_module": "@jupyter-widgets/controls",
            "_view_module_version": "1.5.0",
            "_view_name": "ButtonView",
            "button_style": "",
            "description": "5",
            "disabled": false,
            "icon": "",
            "layout": "IPY_MODEL_de608cc7070b425fa74383635ad314e4",
            "style": "IPY_MODEL_3beba579891a45dd8a6dbd1a79876c4c",
            "tooltip": ""
          }
        },
        "8873586bf42848529e6ae6dfb399b26c": {
          "model_module": "@jupyter-widgets/controls",
          "model_name": "ButtonModel",
          "model_module_version": "1.5.0",
          "state": {
            "_dom_classes": [],
            "_model_module": "@jupyter-widgets/controls",
            "_model_module_version": "1.5.0",
            "_model_name": "ButtonModel",
            "_view_count": null,
            "_view_module": "@jupyter-widgets/controls",
            "_view_module_version": "1.5.0",
            "_view_name": "ButtonView",
            "button_style": "",
            "description": "6",
            "disabled": false,
            "icon": "",
            "layout": "IPY_MODEL_de608cc7070b425fa74383635ad314e4",
            "style": "IPY_MODEL_d7fa31fdd977445bb171c938bd503353",
            "tooltip": ""
          }
        },
        "d9e59772c57c407bade0618017713c6d": {
          "model_module": "@jupyter-widgets/controls",
          "model_name": "ButtonModel",
          "model_module_version": "1.5.0",
          "state": {
            "_dom_classes": [],
            "_model_module": "@jupyter-widgets/controls",
            "_model_module_version": "1.5.0",
            "_model_name": "ButtonModel",
            "_view_count": null,
            "_view_module": "@jupyter-widgets/controls",
            "_view_module_version": "1.5.0",
            "_view_name": "ButtonView",
            "button_style": "",
            "description": "×",
            "disabled": false,
            "icon": "",
            "layout": "IPY_MODEL_de608cc7070b425fa74383635ad314e4",
            "style": "IPY_MODEL_fe72c7b4514d4de6b7df76db9c7e2b90",
            "tooltip": ""
          }
        },
        "f9681f6250c74c66b5cad5011370a3cd": {
          "model_module": "@jupyter-widgets/base",
          "model_name": "LayoutModel",
          "model_module_version": "1.2.0",
          "state": {
            "_model_module": "@jupyter-widgets/base",
            "_model_module_version": "1.2.0",
            "_model_name": "LayoutModel",
            "_view_count": null,
            "_view_module": "@jupyter-widgets/base",
            "_view_module_version": "1.2.0",
            "_view_name": "LayoutView",
            "align_content": null,
            "align_items": null,
            "align_self": null,
            "border": null,
            "bottom": null,
            "display": null,
            "flex": null,
            "flex_flow": null,
            "grid_area": null,
            "grid_auto_columns": null,
            "grid_auto_flow": null,
            "grid_auto_rows": null,
            "grid_column": null,
            "grid_gap": null,
            "grid_row": null,
            "grid_template_areas": null,
            "grid_template_columns": null,
            "grid_template_rows": null,
            "height": null,
            "justify_content": null,
            "justify_items": null,
            "left": null,
            "margin": null,
            "max_height": null,
            "max_width": null,
            "min_height": null,
            "min_width": null,
            "object_fit": null,
            "object_position": null,
            "order": null,
            "overflow": null,
            "overflow_x": null,
            "overflow_y": null,
            "padding": null,
            "right": null,
            "top": null,
            "visibility": null,
            "width": null
          }
        },
        "12f8fb3403004e50a755341842efafd5": {
          "model_module": "@jupyter-widgets/controls",
          "model_name": "ButtonModel",
          "model_module_version": "1.5.0",
          "state": {
            "_dom_classes": [],
            "_model_module": "@jupyter-widgets/controls",
            "_model_module_version": "1.5.0",
            "_model_name": "ButtonModel",
            "_view_count": null,
            "_view_module": "@jupyter-widgets/controls",
            "_view_module_version": "1.5.0",
            "_view_name": "ButtonView",
            "button_style": "",
            "description": "1",
            "disabled": false,
            "icon": "",
            "layout": "IPY_MODEL_de608cc7070b425fa74383635ad314e4",
            "style": "IPY_MODEL_0f5b46c5e0b948b88afd0fbc367054ef",
            "tooltip": ""
          }
        },
        "4d90898b754a4a0882ff2b2a6b9f5518": {
          "model_module": "@jupyter-widgets/controls",
          "model_name": "ButtonModel",
          "model_module_version": "1.5.0",
          "state": {
            "_dom_classes": [],
            "_model_module": "@jupyter-widgets/controls",
            "_model_module_version": "1.5.0",
            "_model_name": "ButtonModel",
            "_view_count": null,
            "_view_module": "@jupyter-widgets/controls",
            "_view_module_version": "1.5.0",
            "_view_name": "ButtonView",
            "button_style": "",
            "description": "2",
            "disabled": false,
            "icon": "",
            "layout": "IPY_MODEL_de608cc7070b425fa74383635ad314e4",
            "style": "IPY_MODEL_1fe866ef29cc4420b00b72ca631a6369",
            "tooltip": ""
          }
        },
        "3377a952cd4644b082d01bcfbac4e1f1": {
          "model_module": "@jupyter-widgets/controls",
          "model_name": "ButtonModel",
          "model_module_version": "1.5.0",
          "state": {
            "_dom_classes": [],
            "_model_module": "@jupyter-widgets/controls",
            "_model_module_version": "1.5.0",
            "_model_name": "ButtonModel",
            "_view_count": null,
            "_view_module": "@jupyter-widgets/controls",
            "_view_module_version": "1.5.0",
            "_view_name": "ButtonView",
            "button_style": "",
            "description": "3",
            "disabled": false,
            "icon": "",
            "layout": "IPY_MODEL_de608cc7070b425fa74383635ad314e4",
            "style": "IPY_MODEL_384994a3bf484ba692edf08fea017a06",
            "tooltip": ""
          }
        },
        "ad0bcd0c00b546418562dc6b1c219729": {
          "model_module": "@jupyter-widgets/controls",
          "model_name": "ButtonModel",
          "model_module_version": "1.5.0",
          "state": {
            "_dom_classes": [],
            "_model_module": "@jupyter-widgets/controls",
            "_model_module_version": "1.5.0",
            "_model_name": "ButtonModel",
            "_view_count": null,
            "_view_module": "@jupyter-widgets/controls",
            "_view_module_version": "1.5.0",
            "_view_name": "ButtonView",
            "button_style": "",
            "description": "-",
            "disabled": false,
            "icon": "",
            "layout": "IPY_MODEL_de608cc7070b425fa74383635ad314e4",
            "style": "IPY_MODEL_a2d6ad11467e42c2aac1e57781ac1193",
            "tooltip": ""
          }
        },
        "e1cf0fadaca44b1e8a3999d799db09c0": {
          "model_module": "@jupyter-widgets/base",
          "model_name": "LayoutModel",
          "model_module_version": "1.2.0",
          "state": {
            "_model_module": "@jupyter-widgets/base",
            "_model_module_version": "1.2.0",
            "_model_name": "LayoutModel",
            "_view_count": null,
            "_view_module": "@jupyter-widgets/base",
            "_view_module_version": "1.2.0",
            "_view_name": "LayoutView",
            "align_content": null,
            "align_items": null,
            "align_self": null,
            "border": null,
            "bottom": null,
            "display": null,
            "flex": null,
            "flex_flow": null,
            "grid_area": null,
            "grid_auto_columns": null,
            "grid_auto_flow": null,
            "grid_auto_rows": null,
            "grid_column": null,
            "grid_gap": null,
            "grid_row": null,
            "grid_template_areas": null,
            "grid_template_columns": null,
            "grid_template_rows": null,
            "height": null,
            "justify_content": null,
            "justify_items": null,
            "left": null,
            "margin": null,
            "max_height": null,
            "max_width": null,
            "min_height": null,
            "min_width": null,
            "object_fit": null,
            "object_position": null,
            "order": null,
            "overflow": null,
            "overflow_x": null,
            "overflow_y": null,
            "padding": null,
            "right": null,
            "top": null,
            "visibility": null,
            "width": null
          }
        },
        "7c3a1b2a1e96421bb69f72484891b4d8": {
          "model_module": "@jupyter-widgets/controls",
          "model_name": "ButtonModel",
          "model_module_version": "1.5.0",
          "state": {
            "_dom_classes": [],
            "_model_module": "@jupyter-widgets/controls",
            "_model_module_version": "1.5.0",
            "_model_name": "ButtonModel",
            "_view_count": null,
            "_view_module": "@jupyter-widgets/controls",
            "_view_module_version": "1.5.0",
            "_view_name": "ButtonView",
            "button_style": "",
            "description": "0",
            "disabled": false,
            "icon": "",
            "layout": "IPY_MODEL_de608cc7070b425fa74383635ad314e4",
            "style": "IPY_MODEL_8d0f1fdc0ee74b98b798fbd84bde4401",
            "tooltip": ""
          }
        },
        "6df70419ee4a4db395245848f40edf1a": {
          "model_module": "@jupyter-widgets/controls",
          "model_name": "ButtonModel",
          "model_module_version": "1.5.0",
          "state": {
            "_dom_classes": [],
            "_model_module": "@jupyter-widgets/controls",
            "_model_module_version": "1.5.0",
            "_model_name": "ButtonModel",
            "_view_count": null,
            "_view_module": "@jupyter-widgets/controls",
            "_view_module_version": "1.5.0",
            "_view_name": "ButtonView",
            "button_style": "",
            "description": ".",
            "disabled": false,
            "icon": "",
            "layout": "IPY_MODEL_de608cc7070b425fa74383635ad314e4",
            "style": "IPY_MODEL_c2eb4f34e204402ab5ec6d47085c7052",
            "tooltip": ""
          }
        },
        "4d16d55248724912b5219e0bd169e88a": {
          "model_module": "@jupyter-widgets/controls",
          "model_name": "ButtonModel",
          "model_module_version": "1.5.0",
          "state": {
            "_dom_classes": [],
            "_model_module": "@jupyter-widgets/controls",
            "_model_module_version": "1.5.0",
            "_model_name": "ButtonModel",
            "_view_count": null,
            "_view_module": "@jupyter-widgets/controls",
            "_view_module_version": "1.5.0",
            "_view_name": "ButtonView",
            "button_style": "",
            "description": "=",
            "disabled": false,
            "icon": "",
            "layout": "IPY_MODEL_de608cc7070b425fa74383635ad314e4",
            "style": "IPY_MODEL_8e6f4d74a4794f2fbef0bd04a04f1a94",
            "tooltip": ""
          }
        },
        "7bef50e0ed894225956c1acb201ab2fa": {
          "model_module": "@jupyter-widgets/controls",
          "model_name": "ButtonModel",
          "model_module_version": "1.5.0",
          "state": {
            "_dom_classes": [],
            "_model_module": "@jupyter-widgets/controls",
            "_model_module_version": "1.5.0",
            "_model_name": "ButtonModel",
            "_view_count": null,
            "_view_module": "@jupyter-widgets/controls",
            "_view_module_version": "1.5.0",
            "_view_name": "ButtonView",
            "button_style": "",
            "description": "+",
            "disabled": false,
            "icon": "",
            "layout": "IPY_MODEL_de608cc7070b425fa74383635ad314e4",
            "style": "IPY_MODEL_996c1f3988f742228d82632e6f91a9db",
            "tooltip": ""
          }
        },
        "d12109834dce435abfb9749af1d22f72": {
          "model_module": "@jupyter-widgets/base",
          "model_name": "LayoutModel",
          "model_module_version": "1.2.0",
          "state": {
            "_model_module": "@jupyter-widgets/base",
            "_model_module_version": "1.2.0",
            "_model_name": "LayoutModel",
            "_view_count": null,
            "_view_module": "@jupyter-widgets/base",
            "_view_module_version": "1.2.0",
            "_view_name": "LayoutView",
            "align_content": null,
            "align_items": null,
            "align_self": null,
            "border": null,
            "bottom": null,
            "display": null,
            "flex": null,
            "flex_flow": null,
            "grid_area": null,
            "grid_auto_columns": null,
            "grid_auto_flow": null,
            "grid_auto_rows": null,
            "grid_column": null,
            "grid_gap": null,
            "grid_row": null,
            "grid_template_areas": null,
            "grid_template_columns": null,
            "grid_template_rows": null,
            "height": null,
            "justify_content": null,
            "justify_items": null,
            "left": null,
            "margin": null,
            "max_height": null,
            "max_width": null,
            "min_height": null,
            "min_width": null,
            "object_fit": null,
            "object_position": null,
            "order": null,
            "overflow": null,
            "overflow_x": null,
            "overflow_y": null,
            "padding": null,
            "right": null,
            "top": null,
            "visibility": null,
            "width": null
          }
        },
        "c398f5f1f4a647eea99aa5a958e6221a": {
          "model_module": "@jupyter-widgets/controls",
          "model_name": "ButtonModel",
          "model_module_version": "1.5.0",
          "state": {
            "_dom_classes": [],
            "_model_module": "@jupyter-widgets/controls",
            "_model_module_version": "1.5.0",
            "_model_name": "ButtonModel",
            "_view_count": null,
            "_view_module": "@jupyter-widgets/controls",
            "_view_module_version": "1.5.0",
            "_view_name": "ButtonView",
            "button_style": "",
            "description": "Clear",
            "disabled": false,
            "icon": "",
            "layout": "IPY_MODEL_de608cc7070b425fa74383635ad314e4",
            "style": "IPY_MODEL_a8083e3159d74b0097a422d840d2850b",
            "tooltip": ""
          }
        },
        "ed6fe2a8579f48879b17c67102374b19": {
          "model_module": "@jupyter-widgets/base",
          "model_name": "LayoutModel",
          "model_module_version": "1.2.0",
          "state": {
            "_model_module": "@jupyter-widgets/base",
            "_model_module_version": "1.2.0",
            "_model_name": "LayoutModel",
            "_view_count": null,
            "_view_module": "@jupyter-widgets/base",
            "_view_module_version": "1.2.0",
            "_view_name": "LayoutView",
            "align_content": null,
            "align_items": null,
            "align_self": null,
            "border": null,
            "bottom": null,
            "display": null,
            "flex": null,
            "flex_flow": null,
            "grid_area": null,
            "grid_auto_columns": null,
            "grid_auto_flow": null,
            "grid_auto_rows": null,
            "grid_column": null,
            "grid_gap": null,
            "grid_row": null,
            "grid_template_areas": null,
            "grid_template_columns": null,
            "grid_template_rows": null,
            "height": null,
            "justify_content": null,
            "justify_items": null,
            "left": null,
            "margin": null,
            "max_height": null,
            "max_width": null,
            "min_height": null,
            "min_width": null,
            "object_fit": null,
            "object_position": null,
            "order": null,
            "overflow": null,
            "overflow_x": null,
            "overflow_y": null,
            "padding": null,
            "right": null,
            "top": null,
            "visibility": null,
            "width": null
          }
        },
        "de608cc7070b425fa74383635ad314e4": {
          "model_module": "@jupyter-widgets/base",
          "model_name": "LayoutModel",
          "model_module_version": "1.2.0",
          "state": {
            "_model_module": "@jupyter-widgets/base",
            "_model_module_version": "1.2.0",
            "_model_name": "LayoutModel",
            "_view_count": null,
            "_view_module": "@jupyter-widgets/base",
            "_view_module_version": "1.2.0",
            "_view_name": "LayoutView",
            "align_content": null,
            "align_items": null,
            "align_self": null,
            "border": null,
            "bottom": null,
            "display": null,
            "flex": null,
            "flex_flow": null,
            "grid_area": null,
            "grid_auto_columns": null,
            "grid_auto_flow": null,
            "grid_auto_rows": null,
            "grid_column": null,
            "grid_gap": null,
            "grid_row": null,
            "grid_template_areas": null,
            "grid_template_columns": null,
            "grid_template_rows": null,
            "height": "75px",
            "justify_content": null,
            "justify_items": null,
            "left": null,
            "margin": "5px",
            "max_height": null,
            "max_width": null,
            "min_height": null,
            "min_width": null,
            "object_fit": null,
            "object_position": null,
            "order": null,
            "overflow": null,
            "overflow_x": null,
            "overflow_y": null,
            "padding": null,
            "right": null,
            "top": null,
            "visibility": null,
            "width": "75px"
          }
        },
        "3b2b960d09e240398f8136c040396b59": {
          "model_module": "@jupyter-widgets/controls",
          "model_name": "ButtonStyleModel",
          "model_module_version": "1.5.0",
          "state": {
            "_model_module": "@jupyter-widgets/controls",
            "_model_module_version": "1.5.0",
            "_model_name": "ButtonStyleModel",
            "_view_count": null,
            "_view_module": "@jupyter-widgets/base",
            "_view_module_version": "1.2.0",
            "_view_name": "StyleView",
            "button_color": "orange",
            "font_weight": ""
          }
        },
        "5265b0cac505498fbac54fe994a9bb68": {
          "model_module": "@jupyter-widgets/controls",
          "model_name": "ButtonStyleModel",
          "model_module_version": "1.5.0",
          "state": {
            "_model_module": "@jupyter-widgets/controls",
            "_model_module_version": "1.5.0",
            "_model_name": "ButtonStyleModel",
            "_view_count": null,
            "_view_module": "@jupyter-widgets/base",
            "_view_module_version": "1.2.0",
            "_view_name": "StyleView",
            "button_color": "orange",
            "font_weight": ""
          }
        },
        "5e8bb0c5fdfc4df4be6a8e1e8fd33c30": {
          "model_module": "@jupyter-widgets/controls",
          "model_name": "ButtonStyleModel",
          "model_module_version": "1.5.0",
          "state": {
            "_model_module": "@jupyter-widgets/controls",
            "_model_module_version": "1.5.0",
            "_model_name": "ButtonStyleModel",
            "_view_count": null,
            "_view_module": "@jupyter-widgets/base",
            "_view_module_version": "1.2.0",
            "_view_name": "StyleView",
            "button_color": "orange",
            "font_weight": ""
          }
        },
        "f73c2725084f4ce1b3bc2966330ff8c1": {
          "model_module": "@jupyter-widgets/controls",
          "model_name": "ButtonStyleModel",
          "model_module_version": "1.5.0",
          "state": {
            "_model_module": "@jupyter-widgets/controls",
            "_model_module_version": "1.5.0",
            "_model_name": "ButtonStyleModel",
            "_view_count": null,
            "_view_module": "@jupyter-widgets/base",
            "_view_module_version": "1.2.0",
            "_view_name": "StyleView",
            "button_color": "orange",
            "font_weight": ""
          }
        },
        "41cb7b6e21174a9798eab0fc964fb927": {
          "model_module": "@jupyter-widgets/controls",
          "model_name": "ButtonStyleModel",
          "model_module_version": "1.5.0",
          "state": {
            "_model_module": "@jupyter-widgets/controls",
            "_model_module_version": "1.5.0",
            "_model_name": "ButtonStyleModel",
            "_view_count": null,
            "_view_module": "@jupyter-widgets/base",
            "_view_module_version": "1.2.0",
            "_view_name": "StyleView",
            "button_color": "orange",
            "font_weight": ""
          }
        },
        "3beba579891a45dd8a6dbd1a79876c4c": {
          "model_module": "@jupyter-widgets/controls",
          "model_name": "ButtonStyleModel",
          "model_module_version": "1.5.0",
          "state": {
            "_model_module": "@jupyter-widgets/controls",
            "_model_module_version": "1.5.0",
            "_model_name": "ButtonStyleModel",
            "_view_count": null,
            "_view_module": "@jupyter-widgets/base",
            "_view_module_version": "1.2.0",
            "_view_name": "StyleView",
            "button_color": "orange",
            "font_weight": ""
          }
        },
        "d7fa31fdd977445bb171c938bd503353": {
          "model_module": "@jupyter-widgets/controls",
          "model_name": "ButtonStyleModel",
          "model_module_version": "1.5.0",
          "state": {
            "_model_module": "@jupyter-widgets/controls",
            "_model_module_version": "1.5.0",
            "_model_name": "ButtonStyleModel",
            "_view_count": null,
            "_view_module": "@jupyter-widgets/base",
            "_view_module_version": "1.2.0",
            "_view_name": "StyleView",
            "button_color": "orange",
            "font_weight": ""
          }
        },
        "fe72c7b4514d4de6b7df76db9c7e2b90": {
          "model_module": "@jupyter-widgets/controls",
          "model_name": "ButtonStyleModel",
          "model_module_version": "1.5.0",
          "state": {
            "_model_module": "@jupyter-widgets/controls",
            "_model_module_version": "1.5.0",
            "_model_name": "ButtonStyleModel",
            "_view_count": null,
            "_view_module": "@jupyter-widgets/base",
            "_view_module_version": "1.2.0",
            "_view_name": "StyleView",
            "button_color": "orange",
            "font_weight": ""
          }
        },
        "0f5b46c5e0b948b88afd0fbc367054ef": {
          "model_module": "@jupyter-widgets/controls",
          "model_name": "ButtonStyleModel",
          "model_module_version": "1.5.0",
          "state": {
            "_model_module": "@jupyter-widgets/controls",
            "_model_module_version": "1.5.0",
            "_model_name": "ButtonStyleModel",
            "_view_count": null,
            "_view_module": "@jupyter-widgets/base",
            "_view_module_version": "1.2.0",
            "_view_name": "StyleView",
            "button_color": "orange",
            "font_weight": ""
          }
        },
        "1fe866ef29cc4420b00b72ca631a6369": {
          "model_module": "@jupyter-widgets/controls",
          "model_name": "ButtonStyleModel",
          "model_module_version": "1.5.0",
          "state": {
            "_model_module": "@jupyter-widgets/controls",
            "_model_module_version": "1.5.0",
            "_model_name": "ButtonStyleModel",
            "_view_count": null,
            "_view_module": "@jupyter-widgets/base",
            "_view_module_version": "1.2.0",
            "_view_name": "StyleView",
            "button_color": "orange",
            "font_weight": ""
          }
        },
        "384994a3bf484ba692edf08fea017a06": {
          "model_module": "@jupyter-widgets/controls",
          "model_name": "ButtonStyleModel",
          "model_module_version": "1.5.0",
          "state": {
            "_model_module": "@jupyter-widgets/controls",
            "_model_module_version": "1.5.0",
            "_model_name": "ButtonStyleModel",
            "_view_count": null,
            "_view_module": "@jupyter-widgets/base",
            "_view_module_version": "1.2.0",
            "_view_name": "StyleView",
            "button_color": "orange",
            "font_weight": ""
          }
        },
        "a2d6ad11467e42c2aac1e57781ac1193": {
          "model_module": "@jupyter-widgets/controls",
          "model_name": "ButtonStyleModel",
          "model_module_version": "1.5.0",
          "state": {
            "_model_module": "@jupyter-widgets/controls",
            "_model_module_version": "1.5.0",
            "_model_name": "ButtonStyleModel",
            "_view_count": null,
            "_view_module": "@jupyter-widgets/base",
            "_view_module_version": "1.2.0",
            "_view_name": "StyleView",
            "button_color": "orange",
            "font_weight": ""
          }
        },
        "8d0f1fdc0ee74b98b798fbd84bde4401": {
          "model_module": "@jupyter-widgets/controls",
          "model_name": "ButtonStyleModel",
          "model_module_version": "1.5.0",
          "state": {
            "_model_module": "@jupyter-widgets/controls",
            "_model_module_version": "1.5.0",
            "_model_name": "ButtonStyleModel",
            "_view_count": null,
            "_view_module": "@jupyter-widgets/base",
            "_view_module_version": "1.2.0",
            "_view_name": "StyleView",
            "button_color": "orange",
            "font_weight": ""
          }
        },
        "c2eb4f34e204402ab5ec6d47085c7052": {
          "model_module": "@jupyter-widgets/controls",
          "model_name": "ButtonStyleModel",
          "model_module_version": "1.5.0",
          "state": {
            "_model_module": "@jupyter-widgets/controls",
            "_model_module_version": "1.5.0",
            "_model_name": "ButtonStyleModel",
            "_view_count": null,
            "_view_module": "@jupyter-widgets/base",
            "_view_module_version": "1.2.0",
            "_view_name": "StyleView",
            "button_color": "orange",
            "font_weight": ""
          }
        },
        "8e6f4d74a4794f2fbef0bd04a04f1a94": {
          "model_module": "@jupyter-widgets/controls",
          "model_name": "ButtonStyleModel",
          "model_module_version": "1.5.0",
          "state": {
            "_model_module": "@jupyter-widgets/controls",
            "_model_module_version": "1.5.0",
            "_model_name": "ButtonStyleModel",
            "_view_count": null,
            "_view_module": "@jupyter-widgets/base",
            "_view_module_version": "1.2.0",
            "_view_name": "StyleView",
            "button_color": "orange",
            "font_weight": ""
          }
        },
        "996c1f3988f742228d82632e6f91a9db": {
          "model_module": "@jupyter-widgets/controls",
          "model_name": "ButtonStyleModel",
          "model_module_version": "1.5.0",
          "state": {
            "_model_module": "@jupyter-widgets/controls",
            "_model_module_version": "1.5.0",
            "_model_name": "ButtonStyleModel",
            "_view_count": null,
            "_view_module": "@jupyter-widgets/base",
            "_view_module_version": "1.2.0",
            "_view_name": "StyleView",
            "button_color": "orange",
            "font_weight": ""
          }
        },
        "a8083e3159d74b0097a422d840d2850b": {
          "model_module": "@jupyter-widgets/controls",
          "model_name": "ButtonStyleModel",
          "model_module_version": "1.5.0",
          "state": {
            "_model_module": "@jupyter-widgets/controls",
            "_model_module_version": "1.5.0",
            "_model_name": "ButtonStyleModel",
            "_view_count": null,
            "_view_module": "@jupyter-widgets/base",
            "_view_module_version": "1.2.0",
            "_view_name": "StyleView",
            "button_color": "orange",
            "font_weight": ""
          }
        }
      }
    }
  },
  "cells": [
    {
      "cell_type": "markdown",
      "metadata": {
        "id": "view-in-github",
        "colab_type": "text"
      },
      "source": [
        "<a href=\"https://colab.research.google.com/github/won4123/S24/blob/main/DLW02.ipynb\" target=\"_parent\"><img src=\"https://colab.research.google.com/assets/colab-badge.svg\" alt=\"Open In Colab\"/></a>"
      ]
    },
    {
      "cell_type": "markdown",
      "source": [
        "# 🌳 **Topic: Python basics #1**\n",
        "\n",
        "📙Manual [Coding4ET Lesson03](https://github.com/MK316/Coding4ET/blob/main/Lessons/Lesson03.md#Variables) for self-study\n",
        "\n",
        "\n",
        "📗Table of contents\n",
        "* **3.1 Comment vs. Code cells; Running code cells**\n",
        "+ **3.2 Input vs. Output**\n",
        "* **3.3 Variables**\n",
        "* **3.4 Operators**\n",
        "* **3.5 Functions**\n",
        "* **3.6 Modules, libraries & packages**\n",
        "\n",
        "Updated as of Mar.25, 2024"
      ],
      "metadata": {
        "id": "fkVkXhLoOGMz"
      }
    },
    {
      "cell_type": "markdown",
      "source": [
        "Your github IDs are below:\n",
        "+ [Digital Literacy & English Education](https://docs.google.com/spreadsheets/d/1rcJ6c2BuAIbodEft7ZUsgwFOwiNK9nO2siZ6VUAgcgI/edit?usp=sharing)\n",
        "+ [Introduction to Coding and Language App Design](https://docs.google.com/spreadsheets/d/11TMSMm_0xzBc5lYAJx9oDwwrgeeAqKR1CEULl-eR6w0/edit?usp=sharing)"
      ],
      "metadata": {
        "id": "mUVgzk50XMkt"
      }
    },
    {
      "cell_type": "markdown",
      "source": [
        "# 3.1 Comment vs. Code cells"
      ],
      "metadata": {
        "id": "CY-YSoyjarvc"
      }
    },
    {
      "cell_type": "markdown",
      "source": [
        "**A. This is a comment cell**"
      ],
      "metadata": {
        "id": "uUjz2zOPawt8"
      }
    },
    {
      "cell_type": "code",
      "source": [
        "#@markdown **B. This is a code cell** (Run this code by clicking the icon on the left)\n",
        "\n",
        "name = input(\"What is your name? \")\n",
        "\n",
        "print(\"*\"*30)\n",
        "print(f\"Welcome, {name}!\", \"\\n\\n\", \"When you click on the code cell and run it, the phrase 'You ran the code' indicates that the code has been executed. The output you see is the direct result of what was programmed in that code cell.\")"
      ],
      "metadata": {
        "cellView": "form",
        "id": "cTgQTMDmazU9",
        "outputId": "af3f59a1-efa6-43ec-eab3-55828d567aea",
        "colab": {
          "base_uri": "https://localhost:8080/"
        }
      },
      "execution_count": null,
      "outputs": [
        {
          "output_type": "stream",
          "name": "stdout",
          "text": [
            "What is your name? Mary\n",
            "******************************\n",
            "Welcome, Mary! \n",
            "\n",
            " When you click on the code cell and run it, the phrase 'You ran the code' indicates that the code has been executed. The output you see is the direct result of what was programmed in that code cell.\n"
          ]
        }
      ]
    },
    {
      "cell_type": "markdown",
      "source": [
        "## 😶 _How to comment on a code cell?_\n",
        "\n",
        "- In Python, the # symbol is used to indicate a comment. A comment is a line of text in a code that is ignored by the Python interpreter and is used to provide explanations or notes for the reader of the code."
      ],
      "metadata": {
        "id": "xZv9R8I8ZWvt"
      }
    },
    {
      "cell_type": "code",
      "source": [
        "# This is a comment in Python\n",
        "x = 10 # this is also a comment"
      ],
      "metadata": {
        "id": "7UJmbmmTaFx9"
      },
      "execution_count": null,
      "outputs": []
    },
    {
      "cell_type": "code",
      "source": [
        "x * 10\n",
        "y = \"Welcome to the class.\"\n",
        "k = x * 2\n",
        "print(k)\n",
        "# k + [3,2,1]"
      ],
      "metadata": {
        "colab": {
          "base_uri": "https://localhost:8080/"
        },
        "id": "Ivc72tB0X_TS",
        "outputId": "8a3bd6f9-abef-4cbc-cf09-b999b196d00a"
      },
      "execution_count": null,
      "outputs": [
        {
          "output_type": "stream",
          "name": "stdout",
          "text": [
            "20\n"
          ]
        }
      ]
    },
    {
      "cell_type": "markdown",
      "source": [
        "# 3.2 Input vs. Output"
      ],
      "metadata": {
        "id": "ZXbZsNpwa0-0"
      }
    },
    {
      "cell_type": "markdown",
      "source": [
        "### 🔸**Input:**\n",
        "+ Definition: Input refers to any information or data that is sent to a computer for processing. This information can come from various sources, such as a keyboard, mouse, microphone, or even an internet connection. Examples:\n",
        "\n",
        "  + Typing text on a keyboard.\n",
        "  + Clicking or moving a mouse.\n",
        "  + Speaking into a microphone.\n",
        "  + Uploading a file or entering data through a website.\n",
        "+ Importance in Coding: Understanding input is crucial because it determines how a program will respond or behave. For instance, a program might react differently to a click than it would to a keyboard press.\n",
        "\n",
        "### 🔸**Output:**\n",
        "+ Definition: Output is the result produced by a computer after processing the input. This output can be displayed in various forms like text on a screen, sound through speakers, or even a printed document. Examples:\n",
        "\n",
        "  + Displaying text or images on a screen.\n",
        "  + Playing sound or music through speakers or headphones.\n",
        "  + Sending a document to a printer.\n",
        "  + Saving a file or sending data over the internet.\n",
        "+ Importance in Coding: Output is the way a program communicates the results of its computations or actions. It can be as simple as displaying a message like \"Hello World!\" or as complex as rendering a detailed graphical report."
      ],
      "metadata": {
        "id": "t8MOM-nDeXq9"
      }
    },
    {
      "cell_type": "markdown",
      "source": [
        "### 💦 Multi-modality\n",
        "\n",
        "|Input ➡️ |Codes| ➡️ Output|\n",
        "|--|--|--|\n",
        "|Text|  | Text|\n",
        "|Audio||Audio|\n",
        "|Image||Image|\n",
        "|video||video|\n",
        "\n",
        "[Multi-modality samples](https://github.com/MK316/Spring2024/blob/main/Multimodality.ipynb)"
      ],
      "metadata": {
        "id": "YcnboBYksXqf"
      }
    },
    {
      "cell_type": "code",
      "source": [
        "x = 7"
      ],
      "metadata": {
        "id": "zgZpXRgkeXNi"
      },
      "execution_count": null,
      "outputs": []
    },
    {
      "cell_type": "markdown",
      "source": [
        "# 3.3 Variables"
      ],
      "metadata": {
        "id": "93gQaEo1RX63"
      }
    },
    {
      "cell_type": "markdown",
      "source": [
        "+ **A variable** is a named storage location that holds a value.\n",
        "+ Variables can be used **to store values** such as numbers, strings, lists, or other data types.\n",
        "+ The value of a variable can change throughout the execution of a program.\n",
        "+ To declare a variable in Python, you need to assign a value to it using the **equal (=) sign.**\n",
        "+ [Rules to create a variable name](https://github.com/MK316/Coding4ET/blob/main/Lessons/Lesson03.md#Variables)"
      ],
      "metadata": {
        "id": "jJT4hD1teuJr"
      }
    },
    {
      "cell_type": "code",
      "source": [
        "x = 10                # Assign the value '10' to the variable 'x'\n",
        "y = \"Hello, class!\"   # Assign the text 'Hello, class!' to the variable 'y'\n",
        "z = [1, 2, 3]         # Assign the list containing the elements 1, 2, and 3 to the variable z."
      ],
      "metadata": {
        "id": "Xes87bY2X45M"
      },
      "execution_count": null,
      "outputs": []
    },
    {
      "cell_type": "code",
      "source": [
        "print(z)"
      ],
      "metadata": {
        "id": "PJ8h3mZmNu7w",
        "outputId": "b0209c69-2b7b-44c0-9d18-a13fc24f6f11",
        "colab": {
          "base_uri": "https://localhost:8080/"
        }
      },
      "execution_count": null,
      "outputs": [
        {
          "output_type": "stream",
          "name": "stdout",
          "text": [
            "[1, 2, 3]\n"
          ]
        }
      ]
    },
    {
      "cell_type": "markdown",
      "source": [
        "↗️ In the above example, 'x' is assigned the value of 10, 'y' is assigned the value of \"Hello, World!\", and 'z' is assigned the value of [1, 2, 3]."
      ],
      "metadata": {
        "id": "ulw6QsP5ZiKp"
      }
    },
    {
      "cell_type": "markdown",
      "source": [
        "[sample link](https://github.com/MK316/Spring2023/raw/main/data/att_sample.csv)"
      ],
      "metadata": {
        "id": "3n2wMVFXQj5y"
      }
    },
    {
      "cell_type": "code",
      "source": [
        "# We can assign a link or a function\n",
        "import pandas as pd\n",
        "url = \"https://github.com/MK316/Spring2023/raw/main/data/att_sample.csv\"\n",
        "data = pd.read_csv(url)\n",
        "print(data)\n",
        "\n",
        "x"
      ],
      "metadata": {
        "id": "_7bvpJt2aQmg",
        "outputId": "4fee6858-9861-42d2-9865-dc16faca2f70",
        "colab": {
          "base_uri": "https://localhost:8080/"
        }
      },
      "execution_count": null,
      "outputs": [
        {
          "output_type": "stream",
          "name": "stdout",
          "text": [
            "      Names\n",
            "0      Mary\n",
            "1      John\n",
            "2       Tim\n",
            "3       Bob\n",
            "4     Sarah\n",
            "5      Kate\n",
            "6     Marie\n",
            "7   Johnson\n",
            "8      Mike\n",
            "9     Harry\n",
            "10      Jin\n",
            "11      Sam\n",
            "12     Paul\n",
            "13  Natalie\n"
          ]
        },
        {
          "output_type": "execute_result",
          "data": {
            "text/plain": [
              "10"
            ]
          },
          "metadata": {},
          "execution_count": 15
        }
      ]
    },
    {
      "cell_type": "markdown",
      "source": [
        "### Note:\n",
        "\n",
        "Python Index: Indexing in Python is a way to access individual items within an iterable object, like a list, string, or tuple. (we'll comback to this later)\n",
        "\n",
        "e.g., z = [1, 2, 3](3 items)\n",
        "\n",
        "How to access to the first item of z?\n",
        "\n",
        "> z[0]\n",
        "\n",
        " 📌 Important: **Python index begins from '0'.** Python uses zero-based indexing. This means the first element is accessed with index 0, the second with 1, and so on."
      ],
      "metadata": {
        "id": "vO9jxQhnIeYM"
      }
    },
    {
      "cell_type": "code",
      "source": [
        "data['Names'][0] # What is the output?"
      ],
      "metadata": {
        "id": "uSSLncUuIftq",
        "outputId": "e73bb99b-aee0-4e45-9964-71f824628d07",
        "colab": {
          "base_uri": "https://localhost:8080/",
          "height": 35
        }
      },
      "execution_count": null,
      "outputs": [
        {
          "output_type": "execute_result",
          "data": {
            "text/plain": [
              "'Mary'"
            ],
            "application/vnd.google.colaboratory.intrinsic+json": {
              "type": "string"
            }
          },
          "metadata": {},
          "execution_count": 19
        }
      ]
    },
    {
      "cell_type": "markdown",
      "source": [
        "# 3.4 Operators\n",
        "\n",
        "* Symbols that perform operations on values and variables.\n",
        "* They are used to perform arithmetic and logical operations, and they can also be used to manipulate and compare values."
      ],
      "metadata": {
        "id": "5JgA2T2dRft5"
      }
    },
    {
      "cell_type": "markdown",
      "source": [
        "1. Arithmetic Operators: +, -, *, /, %, ** (for exponentiation)"
      ],
      "metadata": {
        "id": "NJBgu_O4bczL"
      }
    },
    {
      "cell_type": "code",
      "source": [
        "x = 2; y = 5\n",
        "\n",
        "a1 = x + y\n",
        "a2 = x - y\n",
        "a3 = x * y\n",
        "a4 = x / y\n",
        "a5 = x ** y"
      ],
      "metadata": {
        "id": "dXT3pIzobUHU"
      },
      "execution_count": null,
      "outputs": []
    },
    {
      "cell_type": "code",
      "source": [
        "print(\"x + y =\", a1)\n",
        "\n"
      ],
      "metadata": {
        "id": "_m3JBsOKd6Uv",
        "outputId": "59f20c30-f55d-4c4a-d310-e6fbd4bf76b3",
        "colab": {
          "base_uri": "https://localhost:8080/"
        }
      },
      "execution_count": null,
      "outputs": [
        {
          "output_type": "stream",
          "name": "stdout",
          "text": [
            "x + y = 7\n"
          ]
        }
      ]
    },
    {
      "cell_type": "markdown",
      "source": [
        "# 🔢 Calculator\n",
        "\n",
        "+ [Online app](https://mrkim21.github.io/calculator.html)"
      ],
      "metadata": {
        "id": "Cx1NyWUAybc8"
      }
    },
    {
      "cell_type": "code",
      "source": [
        "# This function adds two numbers\n",
        "def add(x, y):\n",
        "    return x + y\n",
        "\n",
        "# This function subtracts two numbers\n",
        "def subtract(x, y):\n",
        "    return x - y\n",
        "\n",
        "# This function multiplies two numbers\n",
        "def multiply(x, y):\n",
        "    return x * y\n",
        "\n",
        "# This function divides two numbers\n",
        "def divide(x, y):\n",
        "    return x / y\n",
        "\n",
        "func = \"multiply\" #@param = [\"add\",\"subtract\",\"multiply\",\"divide\"]\n",
        "digits = input(\"Type two numbers: (e.g., 3,4)\")\n",
        "digitsplit = digits.split(',')\n",
        "d1 = int(digitsplit[0])\n",
        "d2 = int(digitsplit[1])\n",
        "\n",
        "if func == \"add\":\n",
        "  result = add(d1,d2)\n",
        "  text = \"The addition of %d and %d equals %d\"%(d1,d2,result)\n",
        "elif func == \"subtract\":\n",
        "  result = subtract(d1,d2)\n",
        "  text = \"If you subtract %d from %d, you get %d\"%(d2,d1,result)\n",
        "elif func == \"divide\":\n",
        "  result = divide(d1,d2)\n",
        "  text = \"When you divide %d by %d, you get %d\"%(d1,d2,result)\n",
        "elif func == \"multiply\":\n",
        "  result = multiply(d1,d2)\n",
        "  text = \"%d multiplied by %d is %d\"%(d1,d2,result)\n",
        "\n",
        "print(text)\n",
        "\n"
      ],
      "metadata": {
        "cellView": "form",
        "id": "Dod3_zgYdsWe",
        "colab": {
          "base_uri": "https://localhost:8080/"
        },
        "outputId": "d7a5030c-ac22-4062-ef43-8f81a28dd97d"
      },
      "execution_count": null,
      "outputs": [
        {
          "output_type": "stream",
          "name": "stdout",
          "text": [
            "Type two numbers: (e.g., 3,4)3,10\n",
            "3 multiplied by 10 is 30\n"
          ]
        }
      ]
    },
    {
      "cell_type": "code",
      "source": [
        "#@markdown Calculator app\n",
        "import ipywidgets as widgets\n",
        "from IPython.display import display\n",
        "\n",
        "# Create the output widget to display the results\n",
        "output = widgets.Output()\n",
        "\n",
        "# Create the text widget for displaying the expression\n",
        "expression = widgets.Text(value='', placeholder='Type something', description='Calculation:', disabled=False)\n",
        "\n",
        "def on_button_clicked(b):\n",
        "    with output:\n",
        "        output.clear_output()\n",
        "        if b.description == \"=\":\n",
        "            # Replace the Unicode operators with Python operators\n",
        "            current_expression = expression.value.replace('×', '*').replace('÷', '/')\n",
        "            # Evaluate the expression and handle errors\n",
        "            try:\n",
        "                expression.value = str(eval(current_expression))\n",
        "            except Exception as e:\n",
        "                expression.value = 'Error'\n",
        "        elif b.description == \"Clear\":  # Changed from \"C\" to \"Clear\"\n",
        "            # Clear the expression\n",
        "            expression.value = ''\n",
        "        else:\n",
        "            # Append the button description (number or operator) to the expression\n",
        "            expression.value += b.description\n",
        "\n",
        "\n",
        "# Create buttons using a loop and store them in a list\n",
        "buttons = []\n",
        "button_layout = widgets.Layout(width='75px', height='75px', margin='5px')  # Increased width and height, added margin\n",
        "button_style = {'button_color': 'orange'}  # Set the button color to orange\n",
        "\n",
        "operators = [['7', '8', '9', '÷'],\n",
        "             ['4', '5', '6', '×'],\n",
        "             ['1', '2', '3', '-'],\n",
        "             ['0', '.', '=', '+'],\n",
        "             ['Clear']]  # 'C' button for clearing the input\n",
        "\n",
        "for row in operators:\n",
        "    row_buttons = []\n",
        "    for button_label in row:\n",
        "        button = widgets.Button(description=button_label, layout=button_layout, style=button_style)\n",
        "        button.on_click(on_button_clicked)\n",
        "        row_buttons.append(button)\n",
        "    buttons.append(widgets.HBox(row_buttons))\n",
        "\n",
        "# Display all the widgets\n",
        "all_buttons = widgets.VBox([expression] + buttons)\n",
        "display(output, all_buttons)\n",
        "\n",
        "\n",
        "# Add a clear button\n",
        "clear_button = widgets.Button(description=\"C\", layout=button_layout)\n",
        "clear_button.on_click(on_button_clicked)\n",
        "buttons.append(widgets.HBox([clear_button]))\n",
        "\n",
        "# # Display all the widgets\n",
        "# all_buttons = widgets.VBox([expression] + buttons)\n",
        "# display(output, all_buttons)"
      ],
      "metadata": {
        "cellView": "form",
        "colab": {
          "base_uri": "https://localhost:8080/",
          "height": 475,
          "referenced_widgets": [
            "3d604616a940499a92a11c5c463251dc",
            "8e05b5f6e8404c3e8942a733a8e30dad",
            "acae6c626d384bfb8fdef13519759910",
            "3611095b285e429aa7f13f5ff5e2f398",
            "701c402464ee452296c9e1e244a33ed6",
            "5ee41c08827e4b21a1a6704a76593e0c",
            "730145bf67704711b62a232cd766e858",
            "1c222e6dac1e4dceba7832f89d5f4033",
            "896a164052f04c628756448294924ff8",
            "ab75c70c546a49ebaffc1025742fbd3f",
            "31abee59835b413e8d493c2b27157d86",
            "2bf002611936401a8a468573f9d21d6f",
            "00a3d284f84747f1a541fc89f3fac13b",
            "0789c85446714cb6b726d1c9e9e4dee2",
            "5c4981a0235f486995807875182bc966",
            "e9d6a6f938164151984900b2e16992e8",
            "42dc7c49dc03430f8e703e07e0df7fcf",
            "b0e169852bee4b5da84c92c4cc2ac591",
            "c299605463a540b3bcfe8e4b7848fac1",
            "8873586bf42848529e6ae6dfb399b26c",
            "d9e59772c57c407bade0618017713c6d",
            "f9681f6250c74c66b5cad5011370a3cd",
            "12f8fb3403004e50a755341842efafd5",
            "4d90898b754a4a0882ff2b2a6b9f5518",
            "3377a952cd4644b082d01bcfbac4e1f1",
            "ad0bcd0c00b546418562dc6b1c219729",
            "e1cf0fadaca44b1e8a3999d799db09c0",
            "7c3a1b2a1e96421bb69f72484891b4d8",
            "6df70419ee4a4db395245848f40edf1a",
            "4d16d55248724912b5219e0bd169e88a",
            "7bef50e0ed894225956c1acb201ab2fa",
            "d12109834dce435abfb9749af1d22f72",
            "c398f5f1f4a647eea99aa5a958e6221a",
            "ed6fe2a8579f48879b17c67102374b19",
            "de608cc7070b425fa74383635ad314e4",
            "3b2b960d09e240398f8136c040396b59",
            "5265b0cac505498fbac54fe994a9bb68",
            "5e8bb0c5fdfc4df4be6a8e1e8fd33c30",
            "f73c2725084f4ce1b3bc2966330ff8c1",
            "41cb7b6e21174a9798eab0fc964fb927",
            "3beba579891a45dd8a6dbd1a79876c4c",
            "d7fa31fdd977445bb171c938bd503353",
            "fe72c7b4514d4de6b7df76db9c7e2b90",
            "0f5b46c5e0b948b88afd0fbc367054ef",
            "1fe866ef29cc4420b00b72ca631a6369",
            "384994a3bf484ba692edf08fea017a06",
            "a2d6ad11467e42c2aac1e57781ac1193",
            "8d0f1fdc0ee74b98b798fbd84bde4401",
            "c2eb4f34e204402ab5ec6d47085c7052",
            "8e6f4d74a4794f2fbef0bd04a04f1a94",
            "996c1f3988f742228d82632e6f91a9db",
            "a8083e3159d74b0097a422d840d2850b"
          ]
        },
        "id": "bCBS-TdWTtxZ",
        "outputId": "02cef3ee-3747-4b27-8049-52466a2bce4c"
      },
      "execution_count": null,
      "outputs": [
        {
          "output_type": "display_data",
          "data": {
            "text/plain": [
              "Output()"
            ],
            "application/vnd.jupyter.widget-view+json": {
              "version_major": 2,
              "version_minor": 0,
              "model_id": "3d604616a940499a92a11c5c463251dc"
            }
          },
          "metadata": {}
        },
        {
          "output_type": "display_data",
          "data": {
            "text/plain": [
              "VBox(children=(Text(value='', description='Calculation:', placeholder='Type something'), HBox(children=(Button…"
            ],
            "application/vnd.jupyter.widget-view+json": {
              "version_major": 2,
              "version_minor": 0,
              "model_id": "acae6c626d384bfb8fdef13519759910"
            }
          },
          "metadata": {}
        }
      ]
    },
    {
      "cell_type": "markdown",
      "source": [
        "More operators (for later): <br>\n",
        "* Comparison Operators: ==, !=, <, >, <=, >= <br>\n",
        "* Assignment Operators: =, +=, -=, *=, /=, %= <br>\n",
        "* Logical Operators: and, or, not <br>\n",
        "* Identity Operators: is, is not <br>\n",
        "* Membership Operators: in, not in"
      ],
      "metadata": {
        "id": "sfubu24UbqjH"
      }
    },
    {
      "cell_type": "code",
      "source": [
        "a1 = \"Hello\"\n",
        "a2 = \"Mary\"\n",
        "\n",
        "print(a1+\" \"+a2)"
      ],
      "metadata": {
        "id": "JeCUeyAuR-nC",
        "outputId": "3b67d368-18cd-4f1d-898a-0854e46b7f8b",
        "colab": {
          "base_uri": "https://localhost:8080/"
        }
      },
      "execution_count": null,
      "outputs": [
        {
          "output_type": "stream",
          "name": "stdout",
          "text": [
            "HelloMary\n"
          ]
        }
      ]
    },
    {
      "cell_type": "markdown",
      "source": [
        "# 3.5 Functions\n",
        "\n",
        "## Creating a Function in Python\n",
        "\n",
        "In Python, a function is defined using the `def` keyword, followed by a function name, a set of parentheses `()`, and a colon `:`. The indented block of code following the `:` is executed whenever the function is called.\n",
        "\n",
        "### Example:\n",
        "\n",
        "Here's a simple function that takes two numbers and returns their sum:\n",
        "\n",
        "```python\n",
        "def add_numbers(num1, num2):\n",
        "    result = num1 + num2\n",
        "    return result\n"
      ],
      "metadata": {
        "id": "MoUYg0HeW6oF"
      }
    },
    {
      "cell_type": "code",
      "source": [
        "def add_numbers(num1, num2):\n",
        "    result = num1 + num2\n",
        "    return result"
      ],
      "metadata": {
        "id": "gNLQAYKQTY7R"
      },
      "execution_count": null,
      "outputs": []
    },
    {
      "cell_type": "code",
      "source": [
        "def muli(a1, a2):\n",
        "  result = a1*a2\n",
        "  return result"
      ],
      "metadata": {
        "id": "ZByegoQ5Te2h"
      },
      "execution_count": null,
      "outputs": []
    },
    {
      "cell_type": "code",
      "source": [
        "muli(4,120)"
      ],
      "metadata": {
        "id": "8sI4FKscT3vK",
        "outputId": "24dd5017-dafc-47f3-ff20-5acf8e3c9174",
        "colab": {
          "base_uri": "https://localhost:8080/"
        }
      },
      "execution_count": null,
      "outputs": [
        {
          "output_type": "execute_result",
          "data": {
            "text/plain": [
              "480"
            ]
          },
          "metadata": {},
          "execution_count": 31
        }
      ]
    },
    {
      "cell_type": "code",
      "source": [
        "#@markdown Define yesno(sentence) function to make a statement to a yesno question.\n",
        "def yesno(sentence):\n",
        "    # Remove the period if it's at the end of the sentence\n",
        "    sentence = sentence.rstrip('.')\n",
        "\n",
        "    # Split the sentence into words\n",
        "    words = sentence.split()\n",
        "    # Define a list of 'be' verbs\n",
        "    be_verbs = ['is', 'are', 'am', 'was', 'were']\n",
        "\n",
        "    # Find the position of the 'be' verb\n",
        "    for i, word in enumerate(words):\n",
        "        if word in be_verbs and i != 0:  # Ensure the 'be' verb is not the first word\n",
        "            # Invert the subject and the 'be' verb\n",
        "            # Assuming the subject is the first word\n",
        "            subject = words[0].lower()  # Convert subject to lowercase\n",
        "            verb = words[i]\n",
        "            # Reconstruct the sentence as a yes-no question\n",
        "            remaining = words[1:i] + words[i+1:]\n",
        "            question = f\"{verb.capitalize()} {subject} \" + \" \".join(remaining).strip() + \"?\"\n",
        "            return question\n",
        "\n",
        "    # If no 'be' verb is found, or it's the first word, return the original sentence\n",
        "    return \"Not a simple 'be' verb sentence, already a question, or 'be' verb is the first word.\"\n",
        "\n",
        "# Example usage\n",
        "\n",
        "yoursentence = input(\"Type a simple sentence including be verb.\")\n",
        "yesno(yoursentence)\n"
      ],
      "metadata": {
        "cellView": "form",
        "id": "aeT6u0h7XbXW",
        "outputId": "8d82cec3-38ef-444b-b1e8-6855c7805a7e",
        "colab": {
          "base_uri": "https://localhost:8080/",
          "height": 54
        }
      },
      "execution_count": null,
      "outputs": [
        {
          "name": "stdout",
          "output_type": "stream",
          "text": [
            "Type a simple sentence including be verb.I am very sleepy.\n"
          ]
        },
        {
          "output_type": "execute_result",
          "data": {
            "text/plain": [
              "'Am i very sleepy?'"
            ],
            "application/vnd.google.colaboratory.intrinsic+json": {
              "type": "string"
            }
          },
          "metadata": {},
          "execution_count": 32
        }
      ]
    },
    {
      "cell_type": "code",
      "source": [
        "!pip install gradio"
      ],
      "metadata": {
        "id": "nvCksXbMX-LB",
        "outputId": "5d0a8d49-1501-4d17-b7f6-5634e0823857",
        "colab": {
          "base_uri": "https://localhost:8080/"
        }
      },
      "execution_count": null,
      "outputs": [
        {
          "output_type": "stream",
          "name": "stdout",
          "text": [
            "Collecting gradio\n",
            "  Downloading gradio-4.23.0-py3-none-any.whl (17.1 MB)\n",
            "\u001b[2K     \u001b[90m━━━━━━━━━━━━━━━━━━━━━━━━━━━━━━━━━━━━━━━━\u001b[0m \u001b[32m17.1/17.1 MB\u001b[0m \u001b[31m36.8 MB/s\u001b[0m eta \u001b[36m0:00:00\u001b[0m\n",
            "\u001b[?25hCollecting aiofiles<24.0,>=22.0 (from gradio)\n",
            "  Downloading aiofiles-23.2.1-py3-none-any.whl (15 kB)\n",
            "Requirement already satisfied: altair<6.0,>=4.2.0 in /usr/local/lib/python3.10/dist-packages (from gradio) (4.2.2)\n",
            "Collecting fastapi (from gradio)\n",
            "  Downloading fastapi-0.110.0-py3-none-any.whl (92 kB)\n",
            "\u001b[2K     \u001b[90m━━━━━━━━━━━━━━━━━━━━━━━━━━━━━━━━━━━━━━━━\u001b[0m \u001b[32m92.1/92.1 kB\u001b[0m \u001b[31m12.5 MB/s\u001b[0m eta \u001b[36m0:00:00\u001b[0m\n",
            "\u001b[?25hCollecting ffmpy (from gradio)\n",
            "  Downloading ffmpy-0.3.2.tar.gz (5.5 kB)\n",
            "  Preparing metadata (setup.py) ... \u001b[?25l\u001b[?25hdone\n",
            "Collecting gradio-client==0.14.0 (from gradio)\n",
            "  Downloading gradio_client-0.14.0-py3-none-any.whl (312 kB)\n",
            "\u001b[2K     \u001b[90m━━━━━━━━━━━━━━━━━━━━━━━━━━━━━━━━━━━━━━━━\u001b[0m \u001b[32m312.4/312.4 kB\u001b[0m \u001b[31m39.1 MB/s\u001b[0m eta \u001b[36m0:00:00\u001b[0m\n",
            "\u001b[?25hCollecting httpx>=0.24.1 (from gradio)\n",
            "  Downloading httpx-0.27.0-py3-none-any.whl (75 kB)\n",
            "\u001b[2K     \u001b[90m━━━━━━━━━━━━━━━━━━━━━━━━━━━━━━━━━━━━━━━━\u001b[0m \u001b[32m75.6/75.6 kB\u001b[0m \u001b[31m11.0 MB/s\u001b[0m eta \u001b[36m0:00:00\u001b[0m\n",
            "\u001b[?25hRequirement already satisfied: huggingface-hub>=0.19.3 in /usr/local/lib/python3.10/dist-packages (from gradio) (0.20.3)\n",
            "Requirement already satisfied: importlib-resources<7.0,>=1.3 in /usr/local/lib/python3.10/dist-packages (from gradio) (6.3.2)\n",
            "Requirement already satisfied: jinja2<4.0 in /usr/local/lib/python3.10/dist-packages (from gradio) (3.1.3)\n",
            "Requirement already satisfied: markupsafe~=2.0 in /usr/local/lib/python3.10/dist-packages (from gradio) (2.1.5)\n",
            "Requirement already satisfied: matplotlib~=3.0 in /usr/local/lib/python3.10/dist-packages (from gradio) (3.7.1)\n",
            "Requirement already satisfied: numpy~=1.0 in /usr/local/lib/python3.10/dist-packages (from gradio) (1.25.2)\n",
            "Collecting orjson~=3.0 (from gradio)\n",
            "  Downloading orjson-3.9.15-cp310-cp310-manylinux_2_17_x86_64.manylinux2014_x86_64.whl (138 kB)\n",
            "\u001b[2K     \u001b[90m━━━━━━━━━━━━━━━━━━━━━━━━━━━━━━━━━━━━━━━━\u001b[0m \u001b[32m138.5/138.5 kB\u001b[0m \u001b[31m20.2 MB/s\u001b[0m eta \u001b[36m0:00:00\u001b[0m\n",
            "\u001b[?25hRequirement already satisfied: packaging in /usr/local/lib/python3.10/dist-packages (from gradio) (24.0)\n",
            "Requirement already satisfied: pandas<3.0,>=1.0 in /usr/local/lib/python3.10/dist-packages (from gradio) (1.5.3)\n",
            "Requirement already satisfied: pillow<11.0,>=8.0 in /usr/local/lib/python3.10/dist-packages (from gradio) (9.4.0)\n",
            "Requirement already satisfied: pydantic>=2.0 in /usr/local/lib/python3.10/dist-packages (from gradio) (2.6.4)\n",
            "Collecting pydub (from gradio)\n",
            "  Downloading pydub-0.25.1-py2.py3-none-any.whl (32 kB)\n",
            "Collecting python-multipart>=0.0.9 (from gradio)\n",
            "  Downloading python_multipart-0.0.9-py3-none-any.whl (22 kB)\n",
            "Requirement already satisfied: pyyaml<7.0,>=5.0 in /usr/local/lib/python3.10/dist-packages (from gradio) (6.0.1)\n",
            "Collecting ruff>=0.2.2 (from gradio)\n",
            "  Downloading ruff-0.3.4-py3-none-manylinux_2_17_x86_64.manylinux2014_x86_64.whl (8.7 MB)\n",
            "\u001b[2K     \u001b[90m━━━━━━━━━━━━━━━━━━━━━━━━━━━━━━━━━━━━━━━━\u001b[0m \u001b[32m8.7/8.7 MB\u001b[0m \u001b[31m41.0 MB/s\u001b[0m eta \u001b[36m0:00:00\u001b[0m\n",
            "\u001b[?25hCollecting semantic-version~=2.0 (from gradio)\n",
            "  Downloading semantic_version-2.10.0-py2.py3-none-any.whl (15 kB)\n",
            "Collecting tomlkit==0.12.0 (from gradio)\n",
            "  Downloading tomlkit-0.12.0-py3-none-any.whl (37 kB)\n",
            "Requirement already satisfied: typer[all]<1.0,>=0.9 in /usr/local/lib/python3.10/dist-packages (from gradio) (0.9.0)\n",
            "Requirement already satisfied: typing-extensions~=4.0 in /usr/local/lib/python3.10/dist-packages (from gradio) (4.10.0)\n",
            "Collecting uvicorn>=0.14.0 (from gradio)\n",
            "  Downloading uvicorn-0.29.0-py3-none-any.whl (60 kB)\n",
            "\u001b[2K     \u001b[90m━━━━━━━━━━━━━━━━━━━━━━━━━━━━━━━━━━━━━━━━\u001b[0m \u001b[32m60.8/60.8 kB\u001b[0m \u001b[31m9.4 MB/s\u001b[0m eta \u001b[36m0:00:00\u001b[0m\n",
            "\u001b[?25hRequirement already satisfied: fsspec in /usr/local/lib/python3.10/dist-packages (from gradio-client==0.14.0->gradio) (2023.6.0)\n",
            "Collecting websockets<12.0,>=10.0 (from gradio-client==0.14.0->gradio)\n",
            "  Downloading websockets-11.0.3-cp310-cp310-manylinux_2_5_x86_64.manylinux1_x86_64.manylinux_2_17_x86_64.manylinux2014_x86_64.whl (129 kB)\n",
            "\u001b[2K     \u001b[90m━━━━━━━━━━━━━━━━━━━━━━━━━━━━━━━━━━━━━━━━\u001b[0m \u001b[32m129.9/129.9 kB\u001b[0m \u001b[31m19.1 MB/s\u001b[0m eta \u001b[36m0:00:00\u001b[0m\n",
            "\u001b[?25hRequirement already satisfied: entrypoints in /usr/local/lib/python3.10/dist-packages (from altair<6.0,>=4.2.0->gradio) (0.4)\n",
            "Requirement already satisfied: jsonschema>=3.0 in /usr/local/lib/python3.10/dist-packages (from altair<6.0,>=4.2.0->gradio) (4.19.2)\n",
            "Requirement already satisfied: toolz in /usr/local/lib/python3.10/dist-packages (from altair<6.0,>=4.2.0->gradio) (0.12.1)\n",
            "Requirement already satisfied: anyio in /usr/local/lib/python3.10/dist-packages (from httpx>=0.24.1->gradio) (3.7.1)\n",
            "Requirement already satisfied: certifi in /usr/local/lib/python3.10/dist-packages (from httpx>=0.24.1->gradio) (2024.2.2)\n",
            "Collecting httpcore==1.* (from httpx>=0.24.1->gradio)\n",
            "  Downloading httpcore-1.0.4-py3-none-any.whl (77 kB)\n",
            "\u001b[2K     \u001b[90m━━━━━━━━━━━━━━━━━━━━━━━━━━━━━━━━━━━━━━━━\u001b[0m \u001b[32m77.8/77.8 kB\u001b[0m \u001b[31m11.3 MB/s\u001b[0m eta \u001b[36m0:00:00\u001b[0m\n",
            "\u001b[?25hRequirement already satisfied: idna in /usr/local/lib/python3.10/dist-packages (from httpx>=0.24.1->gradio) (3.6)\n",
            "Requirement already satisfied: sniffio in /usr/local/lib/python3.10/dist-packages (from httpx>=0.24.1->gradio) (1.3.1)\n",
            "Collecting h11<0.15,>=0.13 (from httpcore==1.*->httpx>=0.24.1->gradio)\n",
            "  Downloading h11-0.14.0-py3-none-any.whl (58 kB)\n",
            "\u001b[2K     \u001b[90m━━━━━━━━━━━━━━━━━━━━━━━━━━━━━━━━━━━━━━━━\u001b[0m \u001b[32m58.3/58.3 kB\u001b[0m \u001b[31m9.6 MB/s\u001b[0m eta \u001b[36m0:00:00\u001b[0m\n",
            "\u001b[?25hRequirement already satisfied: filelock in /usr/local/lib/python3.10/dist-packages (from huggingface-hub>=0.19.3->gradio) (3.13.1)\n",
            "Requirement already satisfied: requests in /usr/local/lib/python3.10/dist-packages (from huggingface-hub>=0.19.3->gradio) (2.31.0)\n",
            "Requirement already satisfied: tqdm>=4.42.1 in /usr/local/lib/python3.10/dist-packages (from huggingface-hub>=0.19.3->gradio) (4.66.2)\n",
            "Requirement already satisfied: contourpy>=1.0.1 in /usr/local/lib/python3.10/dist-packages (from matplotlib~=3.0->gradio) (1.2.0)\n",
            "Requirement already satisfied: cycler>=0.10 in /usr/local/lib/python3.10/dist-packages (from matplotlib~=3.0->gradio) (0.12.1)\n",
            "Requirement already satisfied: fonttools>=4.22.0 in /usr/local/lib/python3.10/dist-packages (from matplotlib~=3.0->gradio) (4.50.0)\n",
            "Requirement already satisfied: kiwisolver>=1.0.1 in /usr/local/lib/python3.10/dist-packages (from matplotlib~=3.0->gradio) (1.4.5)\n",
            "Requirement already satisfied: pyparsing>=2.3.1 in /usr/local/lib/python3.10/dist-packages (from matplotlib~=3.0->gradio) (3.1.2)\n",
            "Requirement already satisfied: python-dateutil>=2.7 in /usr/local/lib/python3.10/dist-packages (from matplotlib~=3.0->gradio) (2.8.2)\n",
            "Requirement already satisfied: pytz>=2020.1 in /usr/local/lib/python3.10/dist-packages (from pandas<3.0,>=1.0->gradio) (2023.4)\n",
            "Requirement already satisfied: annotated-types>=0.4.0 in /usr/local/lib/python3.10/dist-packages (from pydantic>=2.0->gradio) (0.6.0)\n",
            "Requirement already satisfied: pydantic-core==2.16.3 in /usr/local/lib/python3.10/dist-packages (from pydantic>=2.0->gradio) (2.16.3)\n",
            "Requirement already satisfied: click<9.0.0,>=7.1.1 in /usr/local/lib/python3.10/dist-packages (from typer[all]<1.0,>=0.9->gradio) (8.1.7)\n",
            "Collecting colorama<0.5.0,>=0.4.3 (from typer[all]<1.0,>=0.9->gradio)\n",
            "  Downloading colorama-0.4.6-py2.py3-none-any.whl (25 kB)\n",
            "Collecting shellingham<2.0.0,>=1.3.0 (from typer[all]<1.0,>=0.9->gradio)\n",
            "  Downloading shellingham-1.5.4-py2.py3-none-any.whl (9.8 kB)\n",
            "Requirement already satisfied: rich<14.0.0,>=10.11.0 in /usr/local/lib/python3.10/dist-packages (from typer[all]<1.0,>=0.9->gradio) (13.7.1)\n",
            "Collecting starlette<0.37.0,>=0.36.3 (from fastapi->gradio)\n",
            "  Downloading starlette-0.36.3-py3-none-any.whl (71 kB)\n",
            "\u001b[2K     \u001b[90m━━━━━━━━━━━━━━━━━━━━━━━━━━━━━━━━━━━━━━━━\u001b[0m \u001b[32m71.5/71.5 kB\u001b[0m \u001b[31m12.1 MB/s\u001b[0m eta \u001b[36m0:00:00\u001b[0m\n",
            "\u001b[?25hRequirement already satisfied: attrs>=22.2.0 in /usr/local/lib/python3.10/dist-packages (from jsonschema>=3.0->altair<6.0,>=4.2.0->gradio) (23.2.0)\n",
            "Requirement already satisfied: jsonschema-specifications>=2023.03.6 in /usr/local/lib/python3.10/dist-packages (from jsonschema>=3.0->altair<6.0,>=4.2.0->gradio) (2023.12.1)\n",
            "Requirement already satisfied: referencing>=0.28.4 in /usr/local/lib/python3.10/dist-packages (from jsonschema>=3.0->altair<6.0,>=4.2.0->gradio) (0.34.0)\n",
            "Requirement already satisfied: rpds-py>=0.7.1 in /usr/local/lib/python3.10/dist-packages (from jsonschema>=3.0->altair<6.0,>=4.2.0->gradio) (0.18.0)\n",
            "Requirement already satisfied: six>=1.5 in /usr/local/lib/python3.10/dist-packages (from python-dateutil>=2.7->matplotlib~=3.0->gradio) (1.16.0)\n",
            "Requirement already satisfied: markdown-it-py>=2.2.0 in /usr/local/lib/python3.10/dist-packages (from rich<14.0.0,>=10.11.0->typer[all]<1.0,>=0.9->gradio) (3.0.0)\n",
            "Requirement already satisfied: pygments<3.0.0,>=2.13.0 in /usr/local/lib/python3.10/dist-packages (from rich<14.0.0,>=10.11.0->typer[all]<1.0,>=0.9->gradio) (2.16.1)\n",
            "Requirement already satisfied: exceptiongroup in /usr/local/lib/python3.10/dist-packages (from anyio->httpx>=0.24.1->gradio) (1.2.0)\n",
            "Requirement already satisfied: charset-normalizer<4,>=2 in /usr/local/lib/python3.10/dist-packages (from requests->huggingface-hub>=0.19.3->gradio) (3.3.2)\n",
            "Requirement already satisfied: urllib3<3,>=1.21.1 in /usr/local/lib/python3.10/dist-packages (from requests->huggingface-hub>=0.19.3->gradio) (2.0.7)\n",
            "Requirement already satisfied: mdurl~=0.1 in /usr/local/lib/python3.10/dist-packages (from markdown-it-py>=2.2.0->rich<14.0.0,>=10.11.0->typer[all]<1.0,>=0.9->gradio) (0.1.2)\n",
            "Building wheels for collected packages: ffmpy\n",
            "  Building wheel for ffmpy (setup.py) ... \u001b[?25l\u001b[?25hdone\n",
            "  Created wheel for ffmpy: filename=ffmpy-0.3.2-py3-none-any.whl size=5584 sha256=17895d9378dd646013fc57ac128b32f9570435b76ea043b6faa06912cd81d6a9\n",
            "  Stored in directory: /root/.cache/pip/wheels/bd/65/9a/671fc6dcde07d4418df0c592f8df512b26d7a0029c2a23dd81\n",
            "Successfully built ffmpy\n",
            "Installing collected packages: pydub, ffmpy, websockets, tomlkit, shellingham, semantic-version, ruff, python-multipart, orjson, h11, colorama, aiofiles, uvicorn, starlette, httpcore, httpx, fastapi, gradio-client, gradio\n",
            "Successfully installed aiofiles-23.2.1 colorama-0.4.6 fastapi-0.110.0 ffmpy-0.3.2 gradio-4.23.0 gradio-client-0.14.0 h11-0.14.0 httpcore-1.0.4 httpx-0.27.0 orjson-3.9.15 pydub-0.25.1 python-multipart-0.0.9 ruff-0.3.4 semantic-version-2.10.0 shellingham-1.5.4 starlette-0.36.3 tomlkit-0.12.0 uvicorn-0.29.0 websockets-11.0.3\n"
          ]
        }
      ]
    },
    {
      "cell_type": "code",
      "source": [
        "import gradio as gr\n",
        "\n",
        "def yesno(sentence):\n",
        "    sentence = sentence.rstrip('.')\n",
        "    words = sentence.split()\n",
        "    be_verbs = ['is', 'are', 'am', 'was', 'were']\n",
        "\n",
        "    for i, word in enumerate(words):\n",
        "        if word in be_verbs and i != 0:\n",
        "            subject = words[0].lower()\n",
        "            verb = words[i]\n",
        "            remaining = words[1:i] + words[i+1:]\n",
        "            question = f\"{verb.capitalize()} {subject} \" + \" \".join(remaining).strip() + \"?\"\n",
        "            return question\n",
        "\n",
        "    return \"Not a simple 'be' verb sentence, already a question, or 'be' verb is the first word.\"\n",
        "\n",
        "iface = gr.Interface(\n",
        "    fn=yesno,\n",
        "    inputs=gr.Textbox(lines=2, placeholder=\"Enter a sentence\"),\n",
        "    outputs=\"text\",\n",
        "    title=\"Yes-No Question Converter (with be-verb only)\",\n",
        "    description=\"Enter a sentence and this app will convert it into a yes-no question.\"\n",
        ")\n",
        "\n",
        "iface.launch()\n"
      ],
      "metadata": {
        "id": "XkDCRhqNaqOE",
        "outputId": "adcfa16b-d03d-42e6-f84c-ea2d62b717b1",
        "colab": {
          "base_uri": "https://localhost:8080/",
          "height": 651
        }
      },
      "execution_count": null,
      "outputs": [
        {
          "output_type": "stream",
          "name": "stdout",
          "text": [
            "Setting queue=True in a Colab notebook requires sharing enabled. Setting `share=True` (you can turn this off by setting `share=False` in `launch()` explicitly).\n",
            "\n",
            "Colab notebook detected. To show errors in colab notebook, set debug=True in launch()\n",
            "Running on public URL: https://61d180ef6b3c154e11.gradio.live\n",
            "\n",
            "This share link expires in 72 hours. For free permanent hosting and GPU upgrades, run `gradio deploy` from Terminal to deploy to Spaces (https://huggingface.co/spaces)\n"
          ]
        },
        {
          "output_type": "display_data",
          "data": {
            "text/plain": [
              "<IPython.core.display.HTML object>"
            ],
            "text/html": [
              "<div><iframe src=\"https://61d180ef6b3c154e11.gradio.live\" width=\"100%\" height=\"500\" allow=\"autoplay; camera; microphone; clipboard-read; clipboard-write;\" frameborder=\"0\" allowfullscreen></iframe></div>"
            ]
          },
          "metadata": {}
        },
        {
          "output_type": "execute_result",
          "data": {
            "text/plain": []
          },
          "metadata": {},
          "execution_count": 35
        }
      ]
    },
    {
      "cell_type": "code",
      "source": [
        "!pip install gtts"
      ],
      "metadata": {
        "id": "35WqtLTvb1Ep",
        "outputId": "7b766e42-5d7f-4424-91be-07bd9b586113",
        "colab": {
          "base_uri": "https://localhost:8080/"
        }
      },
      "execution_count": null,
      "outputs": [
        {
          "output_type": "stream",
          "name": "stdout",
          "text": [
            "Collecting gtts\n",
            "  Downloading gTTS-2.5.1-py3-none-any.whl (29 kB)\n",
            "Requirement already satisfied: requests<3,>=2.27 in /usr/local/lib/python3.10/dist-packages (from gtts) (2.31.0)\n",
            "Requirement already satisfied: click<8.2,>=7.1 in /usr/local/lib/python3.10/dist-packages (from gtts) (8.1.7)\n",
            "Requirement already satisfied: charset-normalizer<4,>=2 in /usr/local/lib/python3.10/dist-packages (from requests<3,>=2.27->gtts) (3.3.2)\n",
            "Requirement already satisfied: idna<4,>=2.5 in /usr/local/lib/python3.10/dist-packages (from requests<3,>=2.27->gtts) (3.6)\n",
            "Requirement already satisfied: urllib3<3,>=1.21.1 in /usr/local/lib/python3.10/dist-packages (from requests<3,>=2.27->gtts) (2.0.7)\n",
            "Requirement already satisfied: certifi>=2017.4.17 in /usr/local/lib/python3.10/dist-packages (from requests<3,>=2.27->gtts) (2024.2.2)\n",
            "Installing collected packages: gtts\n",
            "Successfully installed gtts-2.5.1\n"
          ]
        }
      ]
    },
    {
      "cell_type": "code",
      "source": [
        "#@markdown Yes-No converter app (using Gradio)\n",
        "import gradio as gr\n",
        "from gtts import gTTS\n",
        "import os\n",
        "\n",
        "def yesno_with_audio(sentence):\n",
        "    # Your existing yesno function\n",
        "    def yesno(sentence):\n",
        "        sentence = sentence.rstrip('.')\n",
        "        words = sentence.split()\n",
        "        be_verbs = ['is', 'are', 'am', 'was', 'were']\n",
        "\n",
        "        for i, word in enumerate(words):\n",
        "            if word in be_verbs and i != 0:\n",
        "                subject = words[0].lower()\n",
        "                verb = words[i]\n",
        "                remaining = words[1:i] + words[i+1:]\n",
        "                question = f\"{verb.capitalize()} {subject} \" + \" \".join(remaining).strip() + \"?\"\n",
        "                return question\n",
        "\n",
        "        return \"Not a simple 'be' verb sentence, already a question, or 'be' verb is the first word.\"\n",
        "\n",
        "    # Generate the yes-no question\n",
        "    question = yesno(sentence)\n",
        "\n",
        "    # Generate audio from the question\n",
        "    tts = gTTS(question, lang='en')\n",
        "    audio_file = 'output_audio.mp3'\n",
        "    tts.save(audio_file)\n",
        "\n",
        "    return question, audio_file\n",
        "\n",
        "iface = gr.Interface(\n",
        "    fn=yesno_with_audio,\n",
        "    inputs=gr.Textbox(lines=2, placeholder=\"Enter a sentence\"),\n",
        "    outputs=[\"text\", \"audio\"],\n",
        "    title=\"Yes-No Question Generator with Audio\",\n",
        "    description=\"Enter a sentence and this app will convert it into a yes-no question and read it aloud.\"\n",
        ")\n",
        "\n",
        "iface.launch()\n"
      ],
      "metadata": {
        "cellView": "form",
        "id": "PvmI4XQ2bSkY",
        "outputId": "c4863d84-3ce1-4c67-ee3f-10074a2b1fe9",
        "colab": {
          "base_uri": "https://localhost:8080/",
          "height": 651
        }
      },
      "execution_count": null,
      "outputs": [
        {
          "output_type": "stream",
          "name": "stdout",
          "text": [
            "Setting queue=True in a Colab notebook requires sharing enabled. Setting `share=True` (you can turn this off by setting `share=False` in `launch()` explicitly).\n",
            "\n",
            "Colab notebook detected. To show errors in colab notebook, set debug=True in launch()\n",
            "Running on public URL: https://8fcacc9ee4e9683ed6.gradio.live\n",
            "\n",
            "This share link expires in 72 hours. For free permanent hosting and GPU upgrades, run `gradio deploy` from Terminal to deploy to Spaces (https://huggingface.co/spaces)\n"
          ]
        },
        {
          "output_type": "display_data",
          "data": {
            "text/plain": [
              "<IPython.core.display.HTML object>"
            ],
            "text/html": [
              "<div><iframe src=\"https://8fcacc9ee4e9683ed6.gradio.live\" width=\"100%\" height=\"500\" allow=\"autoplay; camera; microphone; clipboard-read; clipboard-write;\" frameborder=\"0\" allowfullscreen></iframe></div>"
            ]
          },
          "metadata": {}
        },
        {
          "output_type": "execute_result",
          "data": {
            "text/plain": []
          },
          "metadata": {},
          "execution_count": 37
        }
      ]
    },
    {
      "cell_type": "markdown",
      "source": [
        "# ⏰ Todo:"
      ],
      "metadata": {
        "id": "9D7U7633g0S_"
      }
    },
    {
      "cell_type": "code",
      "source": [
        "a1 = input()\n",
        "a2 = input()\n",
        "\n",
        "print(a1+a2)"
      ],
      "metadata": {
        "id": "azAN1grrbT45",
        "outputId": "7e560872-0eca-4f51-d6fc-1b8e8cdb7499",
        "colab": {
          "base_uri": "https://localhost:8080/"
        }
      },
      "execution_count": null,
      "outputs": [
        {
          "output_type": "stream",
          "name": "stdout",
          "text": [
            "6\n",
            "76\n",
            "676\n"
          ]
        }
      ]
    },
    {
      "cell_type": "code",
      "source": [
        "a3 = \"welcome\"\n",
        "a3[0:3]"
      ],
      "metadata": {
        "id": "8rqggcb4b_oC",
        "outputId": "604c8709-200d-4de2-b1bf-b91513687324",
        "colab": {
          "base_uri": "https://localhost:8080/",
          "height": 35
        }
      },
      "execution_count": null,
      "outputs": [
        {
          "output_type": "execute_result",
          "data": {
            "text/plain": [
              "'wel'"
            ],
            "application/vnd.google.colaboratory.intrinsic+json": {
              "type": "string"
            }
          },
          "metadata": {},
          "execution_count": 43
        }
      ]
    },
    {
      "cell_type": "markdown",
      "source": [],
      "metadata": {
        "id": "mSpge9tenu6I"
      }
    },
    {
      "cell_type": "markdown",
      "source": [
        "\n",
        "\n",
        "---\n",
        "# The End\n"
      ],
      "metadata": {
        "id": "3cZjH9xIiN4_"
      }
    }
  ]
}